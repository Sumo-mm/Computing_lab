{
  "nbformat": 4,
  "nbformat_minor": 0,
  "metadata": {
    "colab": {
      "provenance": []
    },
    "kernelspec": {
      "name": "python3",
      "display_name": "Python 3"
    },
    "language_info": {
      "name": "python"
    }
  },
  "cells": [
    {
      "cell_type": "code",
      "execution_count": null,
      "metadata": {
        "colab": {
          "base_uri": "https://localhost:8080/"
        },
        "id": "adeIKhwEJBqB",
        "outputId": "258ca0ba-38ea-495b-c2fd-1b3c80fda054"
      },
      "outputs": [
        {
          "output_type": "stream",
          "name": "stdout",
          "text": [
            "1.5.3\n"
          ]
        }
      ],
      "source": [
        "import pandas as pd\n",
        "print(pd.__version__)"
      ]
    },
    {
      "cell_type": "code",
      "source": [
        "import numpy as np\n",
        "print(pd.__version__)"
      ],
      "metadata": {
        "colab": {
          "base_uri": "https://localhost:8080/"
        },
        "id": "ePgKrXyHJJE0",
        "outputId": "627d63ee-e997-40c0-c21a-d36621b0d482"
      },
      "execution_count": null,
      "outputs": [
        {
          "output_type": "stream",
          "name": "stdout",
          "text": [
            "1.5.3\n"
          ]
        }
      ]
    },
    {
      "cell_type": "code",
      "source": [
        "#Series Creation\n",
        "ser=pd.Series()\n",
        "print(ser)"
      ],
      "metadata": {
        "colab": {
          "base_uri": "https://localhost:8080/"
        },
        "id": "3rwybE-9KC6l",
        "outputId": "3606ce61-ef38-4566-a7ed-38c740642cbd"
      },
      "execution_count": null,
      "outputs": [
        {
          "output_type": "stream",
          "name": "stdout",
          "text": [
            "Series([], dtype: float64)\n"
          ]
        },
        {
          "output_type": "stream",
          "name": "stderr",
          "text": [
            "<ipython-input-3-dc7010a5ce0f>:1: FutureWarning: The default dtype for empty Series will be 'object' instead of 'float64' in a future version. Specify a dtype explicitly to silence this warning.\n",
            "  ser=pd.Series()\n"
          ]
        }
      ]
    },
    {
      "cell_type": "code",
      "source": [
        "data=[1,2,3,4,5]\n",
        "data1=np.array(['a','b','c','d','e'])\n",
        "ser1=pd.Series(data)\n",
        "ser2=pd.Series(data1)\n",
        "print(ser1)\n",
        "print(ser2)"
      ],
      "metadata": {
        "colab": {
          "base_uri": "https://localhost:8080/"
        },
        "id": "VbEG16tbKb9z",
        "outputId": "a449e634-fd84-4584-ad81-148ef53ae4ac"
      },
      "execution_count": null,
      "outputs": [
        {
          "output_type": "stream",
          "name": "stdout",
          "text": [
            "0    1\n",
            "1    2\n",
            "2    3\n",
            "3    4\n",
            "4    5\n",
            "dtype: int64\n",
            "0    a\n",
            "1    b\n",
            "2    c\n",
            "3    d\n",
            "4    e\n",
            "dtype: object\n"
          ]
        }
      ]
    },
    {
      "cell_type": "code",
      "source": [
        "data2 = {'a' : 0., 'b' : 1., 'c' : 2.}\n",
        "ser3=pd.Series(data2)\n",
        "ser4=pd.Series(data2,index=['a','b','c','d'])\n",
        "ser5=pd.Series(5,index=['a','b','c','d'])\n",
        "print(ser3)\n",
        "print(ser4)\n",
        "print(ser5)"
      ],
      "metadata": {
        "colab": {
          "base_uri": "https://localhost:8080/"
        },
        "id": "R0ONj1NoKhTq",
        "outputId": "2753dd06-9874-4f5e-8e5f-4fe232134132"
      },
      "execution_count": null,
      "outputs": [
        {
          "output_type": "stream",
          "name": "stdout",
          "text": [
            "a    0.0\n",
            "b    1.0\n",
            "c    2.0\n",
            "dtype: float64\n",
            "a    0.0\n",
            "b    1.0\n",
            "c    2.0\n",
            "d    NaN\n",
            "dtype: float64\n",
            "a    5\n",
            "b    5\n",
            "c    5\n",
            "d    5\n",
            "dtype: int64\n"
          ]
        }
      ]
    },
    {
      "cell_type": "code",
      "source": [
        "#Accessing element of Series\n",
        "print(ser2[:3])"
      ],
      "metadata": {
        "colab": {
          "base_uri": "https://localhost:8080/"
        },
        "id": "-qUsL-e5K1Xx",
        "outputId": "31d59872-893c-4841-99ef-8d090b317326"
      },
      "execution_count": null,
      "outputs": [
        {
          "output_type": "stream",
          "name": "stdout",
          "text": [
            "0    a\n",
            "1    b\n",
            "2    c\n",
            "dtype: object\n"
          ]
        }
      ]
    },
    {
      "cell_type": "code",
      "source": [
        "print(ser2[-3:])"
      ],
      "metadata": {
        "colab": {
          "base_uri": "https://localhost:8080/"
        },
        "id": "sdqKEDYZK5c5",
        "outputId": "613a19dd-b116-4dd9-9a2b-2809f1db0e28"
      },
      "execution_count": null,
      "outputs": [
        {
          "output_type": "stream",
          "name": "stdout",
          "text": [
            "2    c\n",
            "3    d\n",
            "4    e\n",
            "dtype: object\n"
          ]
        }
      ]
    },
    {
      "cell_type": "code",
      "source": [
        "print(ser4['b'])"
      ],
      "metadata": {
        "colab": {
          "base_uri": "https://localhost:8080/"
        },
        "id": "QxozRSjHK8vz",
        "outputId": "ffcd2596-bd02-4131-b109-cb70ef46154e"
      },
      "execution_count": null,
      "outputs": [
        {
          "output_type": "stream",
          "name": "stdout",
          "text": [
            "1.0\n"
          ]
        }
      ]
    },
    {
      "cell_type": "code",
      "source": [
        "print(ser5[['a','c','d']])"
      ],
      "metadata": {
        "colab": {
          "base_uri": "https://localhost:8080/"
        },
        "id": "rb8J6VGqLDCZ",
        "outputId": "602faf7e-c86c-4ade-bb27-9da4d9c45c78"
      },
      "execution_count": null,
      "outputs": [
        {
          "output_type": "stream",
          "name": "stdout",
          "text": [
            "a    5\n",
            "c    5\n",
            "d    5\n",
            "dtype: int64\n"
          ]
        }
      ]
    },
    {
      "cell_type": "code",
      "source": [
        "#Series Attributes\n",
        "data=[1,2,3,4,5,6,7,8,9]\n",
        "ser=pd.Series(data)\n",
        "ser.index=['z','y','x','d','e','f','g','h','i']\n",
        "ser.index.name='Alp'\n",
        "ser.columns=['Num']\n",
        "print(ser)\n",
        "print(ser.dtype)\n",
        "print(ser.columns)\n",
        "print(ser.axes)\n",
        "print(ser.ndim)\n",
        "print(ser.size)\n",
        "print(ser.shape)\n",
        "print(ser.values)"
      ],
      "metadata": {
        "colab": {
          "base_uri": "https://localhost:8080/"
        },
        "id": "LJXxC5UrLKQw",
        "outputId": "5343dd48-629d-4a1b-e897-03fcdffdec4f"
      },
      "execution_count": null,
      "outputs": [
        {
          "output_type": "stream",
          "name": "stdout",
          "text": [
            "Alp\n",
            "z    1\n",
            "y    2\n",
            "x    3\n",
            "d    4\n",
            "e    5\n",
            "f    6\n",
            "g    7\n",
            "h    8\n",
            "i    9\n",
            "dtype: int64\n",
            "int64\n",
            "['Num']\n",
            "[Index(['z', 'y', 'x', 'd', 'e', 'f', 'g', 'h', 'i'], dtype='object', name='Alp')]\n",
            "1\n",
            "9\n",
            "(9,)\n",
            "[1 2 3 4 5 6 7 8 9]\n"
          ]
        }
      ]
    },
    {
      "cell_type": "code",
      "source": [
        "#Series Functions\n",
        "data=[1,2,3,4,5,6,7,8,9]\n",
        "data2 = {'a' : 0., 'b' : 1., 'c' : 2.}\n",
        "ser=pd.Series(data)\n",
        "ser.index=['z','y','x','d','e','f','g','h','i']\n",
        "ser4=pd.Series(data2,index=['a','b','c','d'])\n",
        "print(type(ser))\n",
        "l=ser.tolist()\n",
        "print(type(l))\n",
        "print(l)\n",
        "print(ser4.isnull())\n",
        "print(pd.unique(ser4))\n",
        "print(ser4.count())\n",
        "print(ser4.value_counts())\n",
        "print(ser.std())"
      ],
      "metadata": {
        "colab": {
          "base_uri": "https://localhost:8080/"
        },
        "id": "YRwkMQl2LSzA",
        "outputId": "cb630189-ad36-412c-aad0-1ffd8d134712"
      },
      "execution_count": null,
      "outputs": [
        {
          "output_type": "stream",
          "name": "stdout",
          "text": [
            "<class 'pandas.core.series.Series'>\n",
            "<class 'list'>\n",
            "[1, 2, 3, 4, 5, 6, 7, 8, 9]\n",
            "a    False\n",
            "b    False\n",
            "c    False\n",
            "d     True\n",
            "dtype: bool\n",
            "[ 0.  1.  2. nan]\n",
            "3\n",
            "0.0    1\n",
            "1.0    1\n",
            "2.0    1\n",
            "dtype: int64\n",
            "2.7386127875258306\n"
          ]
        }
      ]
    },
    {
      "cell_type": "code",
      "source": [
        "#DataFrame Creation\n",
        "df = pd.DataFrame()\n",
        "\n",
        "data = [1,2,3,4,5]\n",
        "df1 = pd.DataFrame(data) #with single list\n",
        "df1.columns=[\"Num\"]\n",
        "print(df1)"
      ],
      "metadata": {
        "colab": {
          "base_uri": "https://localhost:8080/"
        },
        "id": "LRsGnuyJLfVI",
        "outputId": "663772c3-eddd-4809-cb5a-326ffc3ac282"
      },
      "execution_count": null,
      "outputs": [
        {
          "output_type": "stream",
          "name": "stdout",
          "text": [
            "   Num\n",
            "0    1\n",
            "1    2\n",
            "2    3\n",
            "3    4\n",
            "4    5\n"
          ]
        }
      ]
    },
    {
      "cell_type": "code",
      "source": [
        "data = [['AA',11],['BB',22],['CC',33]]\n",
        "df2 =pd.DataFrame(data,columns=['Name','Num'])\n",
        "print(df2)"
      ],
      "metadata": {
        "colab": {
          "base_uri": "https://localhost:8080/"
        },
        "id": "9J4f5ab9LmeD",
        "outputId": "b6c12c95-cd75-4b33-c7f9-6ba284e060e4"
      },
      "execution_count": null,
      "outputs": [
        {
          "output_type": "stream",
          "name": "stdout",
          "text": [
            "  Name  Num\n",
            "0   AA   11\n",
            "1   BB   22\n",
            "2   CC   33\n"
          ]
        }
      ]
    },
    {
      "cell_type": "code",
      "source": [
        "#DataFrame attributes\n",
        "data ={'Name':['AA','BB','CC','DD'],'Num':[11,22,33,44]}\n",
        "df3 = pd.DataFrame(data)\n",
        "print(df3)"
      ],
      "metadata": {
        "colab": {
          "base_uri": "https://localhost:8080/"
        },
        "id": "uBNHyusMMFJx",
        "outputId": "5a13d645-2a85-4ece-a185-9e27895c7e4a"
      },
      "execution_count": null,
      "outputs": [
        {
          "output_type": "stream",
          "name": "stdout",
          "text": [
            "  Name  Num\n",
            "0   AA   11\n",
            "1   BB   22\n",
            "2   CC   33\n",
            "3   DD   44\n"
          ]
        }
      ]
    },
    {
      "cell_type": "code",
      "source": [
        "ind=[101,102,103,104]\n",
        "df3 = pd.DataFrame(data,index=ind)\n",
        "print(df3)"
      ],
      "metadata": {
        "colab": {
          "base_uri": "https://localhost:8080/"
        },
        "id": "9yInkBc9MMSL",
        "outputId": "7fd7f8eb-f5a3-43fa-d461-73603a9b3cd9"
      },
      "execution_count": null,
      "outputs": [
        {
          "output_type": "stream",
          "name": "stdout",
          "text": [
            "    Name  Num\n",
            "101   AA   11\n",
            "102   BB   22\n",
            "103   CC   33\n",
            "104   DD   44\n"
          ]
        }
      ]
    },
    {
      "cell_type": "code",
      "source": [
        "data = {'one' : pd.Series([1, 2, 3], index=['a', 'b', 'c']),'two' : pd.Series([1, 2, 3, 4], index=['a', 'b', 'c', 'd'])}\n",
        "df4=pd.DataFrame(data)\n",
        "print(df4)"
      ],
      "metadata": {
        "colab": {
          "base_uri": "https://localhost:8080/"
        },
        "id": "IH5RttvcMQcV",
        "outputId": "808b06c3-7af0-403b-e50a-594818d67bce"
      },
      "execution_count": null,
      "outputs": [
        {
          "output_type": "stream",
          "name": "stdout",
          "text": [
            "   one  two\n",
            "a  1.0    1\n",
            "b  2.0    2\n",
            "c  3.0    3\n",
            "d  NaN    4\n"
          ]
        }
      ]
    },
    {
      "cell_type": "code",
      "source": [
        "data = {'Name':['AA', 'BB', 'CC', 'DD'],\n",
        "'Num':[11,22,33,44]}\n",
        "ind=[101,102,103,104]\n",
        "df=pd.DataFrame(data,index=ind)\n",
        "print(df)\n",
        "print(df.dtypes)\n",
        "print(df.columns)\n",
        "print(df.axes)\n",
        "print(df.ndim)\n",
        "print(df.size)\n",
        "print(df.shape)\n",
        "print(df.values)\n",
        "print(df.index)"
      ],
      "metadata": {
        "colab": {
          "base_uri": "https://localhost:8080/"
        },
        "id": "1PyxSH2HMjT6",
        "outputId": "009d9094-2ccf-4ff7-f14c-64615b54717c"
      },
      "execution_count": null,
      "outputs": [
        {
          "output_type": "stream",
          "name": "stdout",
          "text": [
            "    Name  Num\n",
            "101   AA   11\n",
            "102   BB   22\n",
            "103   CC   33\n",
            "104   DD   44\n",
            "Name    object\n",
            "Num      int64\n",
            "dtype: object\n",
            "Index(['Name', 'Num'], dtype='object')\n",
            "[Int64Index([101, 102, 103, 104], dtype='int64'), Index(['Name', 'Num'], dtype='object')]\n",
            "2\n",
            "8\n",
            "(4, 2)\n",
            "[['AA' 11]\n",
            " ['BB' 22]\n",
            " ['CC' 33]\n",
            " ['DD' 44]]\n",
            "Int64Index([101, 102, 103, 104], dtype='int64')\n"
          ]
        }
      ]
    },
    {
      "cell_type": "code",
      "source": [
        "#Column Operations\n",
        "data = {'Name':['AA', 'BB', 'CC', 'DD'], 'Num':[11,22,33,44]}\n",
        "ind=[101,102,103,104]\n",
        "df=pd.DataFrame(data,index=ind)\n",
        "print(df)\n",
        "print(df['Num'])\n",
        "df['Num1']=[111,222,333,444]\n",
        "df['Num2']=pd.Series([111,222,333],index=[101,102,103])\n",
        "df['Num3']=df['Num1']+df['Num2']\n",
        "print(df)"
      ],
      "metadata": {
        "colab": {
          "base_uri": "https://localhost:8080/"
        },
        "id": "V_JGd1MfMcPI",
        "outputId": "a4957b79-3872-4992-be9f-333f93b2a6d4"
      },
      "execution_count": null,
      "outputs": [
        {
          "output_type": "stream",
          "name": "stdout",
          "text": [
            "    Name  Num\n",
            "101   AA   11\n",
            "102   BB   22\n",
            "103   CC   33\n",
            "104   DD   44\n",
            "101    11\n",
            "102    22\n",
            "103    33\n",
            "104    44\n",
            "Name: Num, dtype: int64\n",
            "    Name  Num  Num1   Num2   Num3\n",
            "101   AA   11   111  111.0  222.0\n",
            "102   BB   22   222  222.0  444.0\n",
            "103   CC   33   333  333.0  666.0\n",
            "104   DD   44   444    NaN    NaN\n"
          ]
        }
      ]
    },
    {
      "cell_type": "code",
      "source": [
        "del df['Num3']\n",
        "print(df)"
      ],
      "metadata": {
        "colab": {
          "base_uri": "https://localhost:8080/"
        },
        "id": "eGviFojzM7u7",
        "outputId": "9da9d361-8085-42b0-9920-2587cc07f813"
      },
      "execution_count": null,
      "outputs": [
        {
          "output_type": "stream",
          "name": "stdout",
          "text": [
            "    Name  Num  Num1   Num2\n",
            "101   AA   11   111  111.0\n",
            "102   BB   22   222  222.0\n",
            "103   CC   33   333  333.0\n",
            "104   DD   44   444    NaN\n"
          ]
        }
      ]
    },
    {
      "cell_type": "code",
      "source": [
        "df.pop('Num2') #delete\n",
        "print(df)"
      ],
      "metadata": {
        "colab": {
          "base_uri": "https://localhost:8080/"
        },
        "id": "GBaouaGVM-yq",
        "outputId": "a5d33899-b0f1-430d-a48a-50dba25fc999"
      },
      "execution_count": null,
      "outputs": [
        {
          "output_type": "stream",
          "name": "stdout",
          "text": [
            "    Name  Num  Num1\n",
            "101   AA   11   111\n",
            "102   BB   22   222\n",
            "103   CC   33   333\n",
            "104   DD   44   444\n"
          ]
        }
      ]
    },
    {
      "cell_type": "code",
      "source": [
        "df.drop(['Num1'],axis=1,inplace=True)\n",
        "print(df)"
      ],
      "metadata": {
        "colab": {
          "base_uri": "https://localhost:8080/"
        },
        "id": "-Sy2vR-7NB-p",
        "outputId": "8ed2e14e-5544-417b-efa8-fcad2cf48615"
      },
      "execution_count": null,
      "outputs": [
        {
          "output_type": "stream",
          "name": "stdout",
          "text": [
            "    Name  Num\n",
            "101   AA   11\n",
            "102   BB   22\n",
            "103   CC   33\n",
            "104   DD   44\n"
          ]
        }
      ]
    },
    {
      "cell_type": "code",
      "source": [
        "print(df.loc[101])\n",
        "print(df.iloc[2])"
      ],
      "metadata": {
        "colab": {
          "base_uri": "https://localhost:8080/"
        },
        "id": "v22D5VOdNFhw",
        "outputId": "486a5ef4-7de0-4a90-da00-e41c80c06f69"
      },
      "execution_count": null,
      "outputs": [
        {
          "output_type": "stream",
          "name": "stdout",
          "text": [
            "Name    AA\n",
            "Num     11\n",
            "Name: 101, dtype: object\n",
            "Name    CC\n",
            "Num     33\n",
            "Name: 103, dtype: object\n"
          ]
        }
      ]
    },
    {
      "cell_type": "code",
      "source": [
        "print(df[2:4])"
      ],
      "metadata": {
        "colab": {
          "base_uri": "https://localhost:8080/"
        },
        "id": "SMAQSu8zNJOh",
        "outputId": "a09446b1-b46f-44dc-a467-06a01d41cba8"
      },
      "execution_count": null,
      "outputs": [
        {
          "output_type": "stream",
          "name": "stdout",
          "text": [
            "    Name  Num\n",
            "103   CC   33\n",
            "104   DD   44\n"
          ]
        }
      ]
    },
    {
      "cell_type": "code",
      "source": [
        "print(df[df['Num']>20])"
      ],
      "metadata": {
        "colab": {
          "base_uri": "https://localhost:8080/"
        },
        "id": "ECp_AatsNMl1",
        "outputId": "655541b6-c4d4-45f2-ae8c-46aeb2c734a0"
      },
      "execution_count": null,
      "outputs": [
        {
          "output_type": "stream",
          "name": "stdout",
          "text": [
            "    Name  Num\n",
            "102   BB   22\n",
            "103   CC   33\n",
            "104   DD   44\n"
          ]
        }
      ]
    },
    {
      "cell_type": "code",
      "source": [
        "data2 = {'Name':['EE', 'FF'],'Num':[55,66]}\n",
        "ind2=[105,106]\n",
        "\n",
        "df1=pd.DataFrame(data2,index=ind2)\n",
        "\n",
        "print(df1)"
      ],
      "metadata": {
        "colab": {
          "base_uri": "https://localhost:8080/"
        },
        "id": "XvFCpKMANSNc",
        "outputId": "3371b99d-94f8-4120-a9e7-29a3ddb83934"
      },
      "execution_count": null,
      "outputs": [
        {
          "output_type": "stream",
          "name": "stdout",
          "text": [
            "    Name  Num\n",
            "105   EE   55\n",
            "106   FF   66\n"
          ]
        }
      ]
    },
    {
      "cell_type": "code",
      "source": [
        "print(df)"
      ],
      "metadata": {
        "colab": {
          "base_uri": "https://localhost:8080/"
        },
        "id": "TUjBnwi3N7ad",
        "outputId": "6e65f75d-b402-4ce4-fb52-de19e447321f"
      },
      "execution_count": null,
      "outputs": [
        {
          "output_type": "stream",
          "name": "stdout",
          "text": [
            "    Name  Num\n",
            "101   AA   11\n",
            "103   CC   33\n",
            "104   DD   44\n",
            "105   EE   55\n",
            "106   FF   66\n"
          ]
        }
      ]
    }
  ]
}