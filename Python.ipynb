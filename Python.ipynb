{
  "nbformat": 4,
  "nbformat_minor": 0,
  "metadata": {
    "colab": {
      "provenance": [],
      "toc_visible": true
    },
    "kernelspec": {
      "name": "python3",
      "display_name": "Python 3"
    },
    "language_info": {
      "name": "python"
    }
  },
  "cells": [
    {
      "cell_type": "code",
      "execution_count": null,
      "metadata": {
        "colab": {
          "base_uri": "https://localhost:8080/"
        },
        "id": "0WJJEnVXU-yh",
        "outputId": "2c45740f-ff28-42ca-f3e6-198fe7449c74"
      },
      "outputs": [
        {
          "output_type": "stream",
          "name": "stdout",
          "text": [
            "Hello, Python!\n"
          ]
        }
      ],
      "source": [
        "print (\"Hello, Python!\");"
      ]
    },
    {
      "cell_type": "code",
      "source": [
        "                     #PYTHON LISTS:"
      ],
      "metadata": {
        "id": "73X5FjslViff"
      },
      "execution_count": null,
      "outputs": []
    },
    {
      "cell_type": "code",
      "source": [
        "list = [ 'abcd', 786 , 2.23, 'john', 70.2 ]\n",
        "tinylist = [123, 'john']\n",
        "print (list)"
      ],
      "metadata": {
        "colab": {
          "base_uri": "https://localhost:8080/"
        },
        "id": "PB_jz2TPW5aQ",
        "outputId": "d872e219-a0c7-440f-9b7f-2d604e1b956d"
      },
      "execution_count": null,
      "outputs": [
        {
          "output_type": "stream",
          "name": "stdout",
          "text": [
            "['abcd', 786, 2.23, 'john', 70.2]\n"
          ]
        }
      ]
    },
    {
      "cell_type": "code",
      "source": [
        "print (list[0])"
      ],
      "metadata": {
        "colab": {
          "base_uri": "https://localhost:8080/"
        },
        "id": "6ot_2oVeXL3E",
        "outputId": "3b2d6619-1065-4049-a8cc-3b6bd8c5acf2"
      },
      "execution_count": null,
      "outputs": [
        {
          "output_type": "stream",
          "name": "stdout",
          "text": [
            "abcd\n"
          ]
        }
      ]
    },
    {
      "cell_type": "code",
      "source": [
        "print (list[1:3])"
      ],
      "metadata": {
        "colab": {
          "base_uri": "https://localhost:8080/"
        },
        "id": "5fi0GTGQXTAt",
        "outputId": "bbb8587f-7bc0-42a5-d868-52a0a605a358"
      },
      "execution_count": null,
      "outputs": [
        {
          "output_type": "stream",
          "name": "stdout",
          "text": [
            "[786, 2.23]\n"
          ]
        }
      ]
    },
    {
      "cell_type": "code",
      "source": [
        "print (list[2:])"
      ],
      "metadata": {
        "colab": {
          "base_uri": "https://localhost:8080/"
        },
        "id": "u0JLvTeFXZNO",
        "outputId": "cb9ae79b-431a-4983-bb5b-18ac64ccb3dc"
      },
      "execution_count": null,
      "outputs": [
        {
          "output_type": "stream",
          "name": "stdout",
          "text": [
            "[2.23, 'john', 70.2]\n"
          ]
        }
      ]
    },
    {
      "cell_type": "code",
      "source": [
        "print (tinylist)"
      ],
      "metadata": {
        "colab": {
          "base_uri": "https://localhost:8080/"
        },
        "id": "HEdz8K5hXetQ",
        "outputId": "49c34d99-acb7-49a0-d95b-6774304abfd5"
      },
      "execution_count": null,
      "outputs": [
        {
          "output_type": "stream",
          "name": "stdout",
          "text": [
            "[123, 'john']\n"
          ]
        }
      ]
    },
    {
      "cell_type": "code",
      "source": [
        "print (list + tinylist)"
      ],
      "metadata": {
        "colab": {
          "base_uri": "https://localhost:8080/"
        },
        "id": "AkU4jwzYXkQ1",
        "outputId": "e27245f1-f206-4f15-c8d6-ad8cb7311b97"
      },
      "execution_count": null,
      "outputs": [
        {
          "output_type": "stream",
          "name": "stdout",
          "text": [
            "['abcd', 786, 2.23, 'john', 70.2, 123, 'john']\n"
          ]
        }
      ]
    },
    {
      "cell_type": "code",
      "source": [
        "tuple = ( 'abcd', 786 , 2.23, 'john', 70.2 )\n",
        "tinytuple = (123, 'john')\n",
        "print (tuple)\n",
        "print (tuple[0])\n",
        "print (tuple[1:3])\n",
        "print (tuple[2:])\n",
        "print (tinytuple * 2)\n",
        "print (tuple + tinytuple)"
      ],
      "metadata": {
        "colab": {
          "base_uri": "https://localhost:8080/"
        },
        "id": "nRgXFNp6Xqgl",
        "outputId": "b811b85d-a191-47e8-cd77-f56ed0e8dabb"
      },
      "execution_count": null,
      "outputs": [
        {
          "output_type": "stream",
          "name": "stdout",
          "text": [
            "('abcd', 786, 2.23, 'john', 70.2)\n",
            "abcd\n",
            "(786, 2.23)\n",
            "(2.23, 'john', 70.2)\n",
            "(123, 'john', 123, 'john')\n",
            "('abcd', 786, 2.23, 'john', 70.2, 123, 'john')\n"
          ]
        }
      ]
    },
    {
      "cell_type": "code",
      "source": [
        "tinydict = {'name': 'john','code':6734, 'dept': 'sales'}\n",
        "print (dict['one'])\n",
        "print (dict[2])\n",
        "print (tinydict)\n",
        "print (tinydict.keys())\n",
        "print (tinydict.values())\n"
      ],
      "metadata": {
        "colab": {
          "base_uri": "https://localhost:8080/"
        },
        "id": "XlILhSD7YHn-",
        "outputId": "40ef37f4-f64b-405a-a10c-cad89c3db970"
      },
      "execution_count": null,
      "outputs": [
        {
          "output_type": "stream",
          "name": "stdout",
          "text": [
            "dict['one']\n",
            "dict[2]\n",
            "{'name': 'john', 'code': 6734, 'dept': 'sales'}\n",
            "dict_keys(['name', 'code', 'dept'])\n",
            "dict_values(['john', 6734, 'sales'])\n"
          ]
        }
      ]
    },
    {
      "cell_type": "code",
      "source": [
        "                              #ITERATION BY SEQUENCE INDEX"
      ],
      "metadata": {
        "id": "wY838yw1YlIu"
      },
      "execution_count": null,
      "outputs": []
    },
    {
      "cell_type": "code",
      "source": [
        "fruits = ['banana', 'apple', 'mango']\n",
        "for index in range(len(fruits)):\n",
        "  print ('Current fruit :', fruits[index])"
      ],
      "metadata": {
        "colab": {
          "base_uri": "https://localhost:8080/"
        },
        "id": "DI2JEisSYwuw",
        "outputId": "8fce1e5b-4613-4d95-d49c-0702e0fd311b"
      },
      "execution_count": null,
      "outputs": [
        {
          "output_type": "stream",
          "name": "stdout",
          "text": [
            "Current fruit : banana\n",
            "Current fruit : apple\n",
            "Current fruit : mango\n"
          ]
        }
      ]
    },
    {
      "cell_type": "code",
      "source": [
        "                            #THE BREAK STATEMENT"
      ],
      "metadata": {
        "id": "k-YDiA1KY_aZ"
      },
      "execution_count": null,
      "outputs": []
    },
    {
      "cell_type": "code",
      "source": [
        "for letter in 'Python':\n",
        "  if letter == 'h':\n",
        "    break\n",
        "  print ('Current Letter :', letter)\n",
        "var = 10\n",
        "while var > 0:\n",
        "  print ('Current variable value :', var)\n",
        "  var = var -1\n",
        "  if var == 5:\n",
        "    break\n",
        "print (\"Good bye!\")"
      ],
      "metadata": {
        "colab": {
          "base_uri": "https://localhost:8080/"
        },
        "id": "XS0OEPgGZEEP",
        "outputId": "3de75da5-6a8f-40d2-fcbe-afb8d1ce36dc"
      },
      "execution_count": null,
      "outputs": [
        {
          "output_type": "stream",
          "name": "stdout",
          "text": [
            "Current Letter : P\n",
            "Current Letter : y\n",
            "Current Letter : t\n",
            "Current variable value : 10\n",
            "Current variable value : 9\n",
            "Current variable value : 8\n",
            "Current variable value : 7\n",
            "Current variable value : 6\n",
            "Good bye!\n"
          ]
        }
      ]
    },
    {
      "cell_type": "code",
      "source": [
        "                            #CALLING A FUNCTION"
      ],
      "metadata": {
        "id": "5wjf08P4ZxWH"
      },
      "execution_count": null,
      "outputs": []
    },
    {
      "cell_type": "code",
      "source": [
        "# Function definition is here\n",
        "def printme( str ):\n",
        "  print (str);\n",
        "  return;\n",
        "# Now you can call printme function\n",
        "printme(\"I'm first call to user defined function!\");\n",
        "printme(\"Again second call to the same function\");"
      ],
      "metadata": {
        "colab": {
          "base_uri": "https://localhost:8080/"
        },
        "id": "-Z0DheNmZyCQ",
        "outputId": "4c30e888-f8a6-4ea1-9ed0-67f9b02a1514"
      },
      "execution_count": null,
      "outputs": [
        {
          "output_type": "stream",
          "name": "stdout",
          "text": [
            "I'm first call to user defined function!\n",
            "Again second call to the same function\n"
          ]
        }
      ]
    }
  ]
}