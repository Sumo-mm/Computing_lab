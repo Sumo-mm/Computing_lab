{
  "nbformat": 4,
  "nbformat_minor": 0,
  "metadata": {
    "colab": {
      "provenance": []
    },
    "kernelspec": {
      "name": "python3",
      "display_name": "Python 3"
    },
    "language_info": {
      "name": "python"
    }
  },
  "cells": [
    {
      "cell_type": "code",
      "execution_count": null,
      "metadata": {
        "id": "6EXbpPp6xQhG"
      },
      "outputs": [],
      "source": [
        "import numpy as np;\n"
      ]
    },
    {
      "cell_type": "code",
      "source": [
        "import pandas as pd;"
      ],
      "metadata": {
        "id": "KpT8LrW4xqsd"
      },
      "execution_count": null,
      "outputs": []
    },
    {
      "cell_type": "code",
      "source": [
        "def load_data(Naive_Bayes_TrainingSet):\n",
        "  data = pd.read_csv(Naive_Bayes_TrainingSet)\n",
        "  X = data.iloc[:, :-1].values\n",
        "  y = data.iloc[:, :-1].values\n",
        "  return X,y\n",
        "train_X, train_y = load_data('Naive_Bayes_TrainingSet.csv')\n",
        "test_X, test_y = load_data('test_data.csv')"
      ],
      "metadata": {
        "id": "EDDzHrmvx1qr"
      },
      "execution_count": null,
      "outputs": []
    },
    {
      "cell_type": "code",
      "source": [
        "class CustomNavieBayesClassifier:\n",
        "  def fit(self, X, y):\n",
        "    self.classes = np.unique(y)\n",
        "    self.class_probs = {}\n",
        "    self.class_probs = {}\n",
        "    self.feature_probs = {}\n",
        "\n",
        "def fit(self, X, y):\n",
        "  for cls in self.classes:\n",
        "    self.class_probs[cls] = np.mean(y == cls)\n",
        "    self.feature_probs[cls] = {}\n",
        "    for feature in range(X.shape[1]):\n",
        "      self.feature_robs[cls][feature] = {}\n",
        "      for value in np.unique(X[:, feature]):\n",
        "        count = np.sum((X[:, feature] == value) & (y == cls))\n",
        "        total = np.sum(y == cls)\n",
        "        self.featre_robs[cls][feature][value] = count/total\n",
        "\n",
        "\n"
      ],
      "metadata": {
        "id": "HzYbHJGD1Kwd"
      },
      "execution_count": null,
      "outputs": []
    },
    {
      "cell_type": "code",
      "source": [
        "def predict(self, X):\n",
        "  predictions = []\n",
        "  for sample in X:\n",
        "    class_scores = np.log(self.class_probs[cls])\n",
        "    for cls in self.classes:\n",
        "      for feature, value in enumerate(sample) :\n",
        "        if value in self.feature_probs[cls][feature] :\n",
        "          class_scores[cls] += np.log(self.feature_robs[cls][feature][value])\n",
        "    predicted_class = max(class_scores, key=class_scores.get)\n",
        "    predictions.append(predicted_class)\n",
        "  return predictions"
      ],
      "metadata": {
        "id": "Ae3mlECW4zzd"
      },
      "execution_count": null,
      "outputs": []
    },
    {
      "cell_type": "code",
      "source": [
        "nb_classifier = CustomNavieBayesClassifier()\n",
        "nb_classifier.fit(train_X, train_y)\n",
        "def predict(self, X):\n",
        "  predictions = nb_classifier.predict(test_X)\n",
        "  accuracy = np.mean(predictions == test_y)\n",
        "  print(f'Accuracy: {accuracy * 100: .2f}%')\n"
      ],
      "metadata": {
        "colab": {
          "base_uri": "https://localhost:8080/",
          "height": 391
        },
        "id": "fEoBWwX2-uNn",
        "outputId": "b3c17269-516c-4ead-ad61-48deeb0bab5f"
      },
      "execution_count": null,
      "outputs": [
        {
          "output_type": "error",
          "ename": "TypeError",
          "evalue": "ignored",
          "traceback": [
            "\u001b[0;31m---------------------------------------------------------------------------\u001b[0m",
            "\u001b[0;31mTypeError\u001b[0m                                 Traceback (most recent call last)",
            "\u001b[0;32m<ipython-input-34-5f687917139a>\u001b[0m in \u001b[0;36m<cell line: 2>\u001b[0;34m()\u001b[0m\n\u001b[1;32m      1\u001b[0m \u001b[0mnb_classifier\u001b[0m \u001b[0;34m=\u001b[0m \u001b[0mCustomNavieBayesClassifier\u001b[0m\u001b[0;34m(\u001b[0m\u001b[0;34m)\u001b[0m\u001b[0;34m\u001b[0m\u001b[0;34m\u001b[0m\u001b[0m\n\u001b[0;32m----> 2\u001b[0;31m \u001b[0mnb_classifier\u001b[0m\u001b[0;34m.\u001b[0m\u001b[0mfit\u001b[0m\u001b[0;34m(\u001b[0m\u001b[0mtrain_X\u001b[0m\u001b[0;34m,\u001b[0m \u001b[0mtrain_y\u001b[0m\u001b[0;34m)\u001b[0m\u001b[0;34m\u001b[0m\u001b[0;34m\u001b[0m\u001b[0m\n\u001b[0m\u001b[1;32m      3\u001b[0m \u001b[0;32mdef\u001b[0m \u001b[0mpredict\u001b[0m\u001b[0;34m(\u001b[0m\u001b[0mself\u001b[0m\u001b[0;34m,\u001b[0m \u001b[0mX\u001b[0m\u001b[0;34m)\u001b[0m\u001b[0;34m:\u001b[0m\u001b[0;34m\u001b[0m\u001b[0;34m\u001b[0m\u001b[0m\n\u001b[1;32m      4\u001b[0m   \u001b[0mpredictions\u001b[0m \u001b[0;34m=\u001b[0m \u001b[0mnb_classifier\u001b[0m\u001b[0;34m.\u001b[0m\u001b[0mpredict\u001b[0m\u001b[0;34m(\u001b[0m\u001b[0mtest_X\u001b[0m\u001b[0;34m)\u001b[0m\u001b[0;34m\u001b[0m\u001b[0;34m\u001b[0m\u001b[0m\n\u001b[1;32m      5\u001b[0m   \u001b[0maccuracy\u001b[0m \u001b[0;34m=\u001b[0m \u001b[0mnp\u001b[0m\u001b[0;34m.\u001b[0m\u001b[0mmean\u001b[0m\u001b[0;34m(\u001b[0m\u001b[0mpredictions\u001b[0m \u001b[0;34m==\u001b[0m \u001b[0mtest_y\u001b[0m\u001b[0;34m)\u001b[0m\u001b[0;34m\u001b[0m\u001b[0;34m\u001b[0m\u001b[0m\n",
            "\u001b[0;32m<ipython-input-32-f63bac77dddd>\u001b[0m in \u001b[0;36mfit\u001b[0;34m(self, X, y)\u001b[0m\n\u001b[1;32m      1\u001b[0m \u001b[0;32mclass\u001b[0m \u001b[0mCustomNavieBayesClassifier\u001b[0m\u001b[0;34m:\u001b[0m\u001b[0;34m\u001b[0m\u001b[0;34m\u001b[0m\u001b[0m\n\u001b[1;32m      2\u001b[0m   \u001b[0;32mdef\u001b[0m \u001b[0mfit\u001b[0m\u001b[0;34m(\u001b[0m\u001b[0mself\u001b[0m\u001b[0;34m,\u001b[0m \u001b[0mX\u001b[0m\u001b[0;34m,\u001b[0m \u001b[0my\u001b[0m\u001b[0;34m)\u001b[0m\u001b[0;34m:\u001b[0m\u001b[0;34m\u001b[0m\u001b[0;34m\u001b[0m\u001b[0m\n\u001b[0;32m----> 3\u001b[0;31m     \u001b[0mself\u001b[0m\u001b[0;34m.\u001b[0m\u001b[0mclasses\u001b[0m \u001b[0;34m=\u001b[0m \u001b[0mnp\u001b[0m\u001b[0;34m.\u001b[0m\u001b[0munique\u001b[0m\u001b[0;34m(\u001b[0m\u001b[0my\u001b[0m\u001b[0;34m)\u001b[0m\u001b[0;34m\u001b[0m\u001b[0;34m\u001b[0m\u001b[0m\n\u001b[0m\u001b[1;32m      4\u001b[0m     \u001b[0mself\u001b[0m\u001b[0;34m.\u001b[0m\u001b[0mclass_probs\u001b[0m \u001b[0;34m=\u001b[0m \u001b[0;34m{\u001b[0m\u001b[0;34m}\u001b[0m\u001b[0;34m\u001b[0m\u001b[0;34m\u001b[0m\u001b[0m\n\u001b[1;32m      5\u001b[0m     \u001b[0mself\u001b[0m\u001b[0;34m.\u001b[0m\u001b[0mclass_probs\u001b[0m \u001b[0;34m=\u001b[0m \u001b[0;34m{\u001b[0m\u001b[0;34m}\u001b[0m\u001b[0;34m\u001b[0m\u001b[0;34m\u001b[0m\u001b[0m\n",
            "\u001b[0;32m/usr/local/lib/python3.10/dist-packages/numpy/core/overrides.py\u001b[0m in \u001b[0;36munique\u001b[0;34m(*args, **kwargs)\u001b[0m\n",
            "\u001b[0;32m/usr/local/lib/python3.10/dist-packages/numpy/lib/arraysetops.py\u001b[0m in \u001b[0;36munique\u001b[0;34m(ar, return_index, return_inverse, return_counts, axis, equal_nan)\u001b[0m\n\u001b[1;32m    272\u001b[0m     \u001b[0mar\u001b[0m \u001b[0;34m=\u001b[0m \u001b[0mnp\u001b[0m\u001b[0;34m.\u001b[0m\u001b[0masanyarray\u001b[0m\u001b[0;34m(\u001b[0m\u001b[0mar\u001b[0m\u001b[0;34m)\u001b[0m\u001b[0;34m\u001b[0m\u001b[0;34m\u001b[0m\u001b[0m\n\u001b[1;32m    273\u001b[0m     \u001b[0;32mif\u001b[0m \u001b[0maxis\u001b[0m \u001b[0;32mis\u001b[0m \u001b[0;32mNone\u001b[0m\u001b[0;34m:\u001b[0m\u001b[0;34m\u001b[0m\u001b[0;34m\u001b[0m\u001b[0m\n\u001b[0;32m--> 274\u001b[0;31m         ret = _unique1d(ar, return_index, return_inverse, return_counts, \n\u001b[0m\u001b[1;32m    275\u001b[0m                         equal_nan=equal_nan)\n\u001b[1;32m    276\u001b[0m         \u001b[0;32mreturn\u001b[0m \u001b[0m_unpack_tuple\u001b[0m\u001b[0;34m(\u001b[0m\u001b[0mret\u001b[0m\u001b[0;34m)\u001b[0m\u001b[0;34m\u001b[0m\u001b[0;34m\u001b[0m\u001b[0m\n",
            "\u001b[0;32m/usr/local/lib/python3.10/dist-packages/numpy/lib/arraysetops.py\u001b[0m in \u001b[0;36m_unique1d\u001b[0;34m(ar, return_index, return_inverse, return_counts, equal_nan)\u001b[0m\n\u001b[1;32m    334\u001b[0m         \u001b[0maux\u001b[0m \u001b[0;34m=\u001b[0m \u001b[0mar\u001b[0m\u001b[0;34m[\u001b[0m\u001b[0mperm\u001b[0m\u001b[0;34m]\u001b[0m\u001b[0;34m\u001b[0m\u001b[0;34m\u001b[0m\u001b[0m\n\u001b[1;32m    335\u001b[0m     \u001b[0;32melse\u001b[0m\u001b[0;34m:\u001b[0m\u001b[0;34m\u001b[0m\u001b[0;34m\u001b[0m\u001b[0m\n\u001b[0;32m--> 336\u001b[0;31m         \u001b[0mar\u001b[0m\u001b[0;34m.\u001b[0m\u001b[0msort\u001b[0m\u001b[0;34m(\u001b[0m\u001b[0;34m)\u001b[0m\u001b[0;34m\u001b[0m\u001b[0;34m\u001b[0m\u001b[0m\n\u001b[0m\u001b[1;32m    337\u001b[0m         \u001b[0maux\u001b[0m \u001b[0;34m=\u001b[0m \u001b[0mar\u001b[0m\u001b[0;34m\u001b[0m\u001b[0;34m\u001b[0m\u001b[0m\n\u001b[1;32m    338\u001b[0m     \u001b[0mmask\u001b[0m \u001b[0;34m=\u001b[0m \u001b[0mnp\u001b[0m\u001b[0;34m.\u001b[0m\u001b[0mempty\u001b[0m\u001b[0;34m(\u001b[0m\u001b[0maux\u001b[0m\u001b[0;34m.\u001b[0m\u001b[0mshape\u001b[0m\u001b[0;34m,\u001b[0m \u001b[0mdtype\u001b[0m\u001b[0;34m=\u001b[0m\u001b[0mnp\u001b[0m\u001b[0;34m.\u001b[0m\u001b[0mbool_\u001b[0m\u001b[0;34m)\u001b[0m\u001b[0;34m\u001b[0m\u001b[0;34m\u001b[0m\u001b[0m\n",
            "\u001b[0;31mTypeError\u001b[0m: '<' not supported between instances of 'str' and 'int'"
          ]
        }
      ]
    },
    {
      "cell_type": "code",
      "source": [
        "import numpy as np\n",
        "import pandas as pd\n",
        "\n",
        "def load_data(Naive_Bayes_TrainingSet):\n",
        "    data = pd.read_csv(Naive_Bayes_TrainingSet)\n",
        "    X = data.iloc[:, :-1].values\n",
        "    y = data.iloc[:, -1].values\n",
        "    return X, y\n",
        "\n",
        "train_X, train_y = load_data('Naive_Bayes_TrainingSet.csv')\n",
        "test_X, test_y = load_data('test_data.csv')\n",
        "\n",
        "class CustomNaiveBayesClassifier:\n",
        "    def fit(self, X, y):\n",
        "        self.classes = np.unique(y)\n",
        "        self.class_probs = {}\n",
        "        self.feature_probs = {}\n",
        "\n",
        "        for cls in self.classes:\n",
        "            self.class_probs[cls] = np.mean(y == cls)\n",
        "            self.feature_probs[cls] = {}\n",
        "            for feature in range(X.shape[1]):\n",
        "                self.feature_probs[cls][feature] = {}\n",
        "                for value in np.unique(X[:, feature]):\n",
        "                    count = np.sum((X[:, feature] == value) & (y == cls))\n",
        "                    total = np.sum(y == cls)\n",
        "                    self.feature_probs[cls][feature][value] = count / total\n",
        "\n",
        "    def predict(self, X):\n",
        "        predictions = []\n",
        "        for sample in X:\n",
        "            class_scores = {cls: np.log(self.class_probs[cls]) for cls in self.classes}\n",
        "            for cls in self.classes:\n",
        "                for feature, value in enumerate(sample):\n",
        "                    if value in self.feature_probs[cls][feature]:\n",
        "                        class_scores[cls] += np.log(self.feature_probs[cls][feature][value])\n",
        "            predicted_class = max(class_scores, key=class_scores.get)\n",
        "            predictions.append(predicted_class)\n",
        "        return predictions\n",
        "\n",
        "nb_classifier = CustomNaiveBayesClassifier()\n",
        "nb_classifier.fit(train_X, train_y)\n",
        "\n",
        "predictions = nb_classifier.predict(test_X)\n",
        "accuracy = np.mean(predictions == test_y)\n",
        "print(f'Accuracy: {accuracy * 100:.2f}%')\n"
      ],
      "metadata": {
        "colab": {
          "base_uri": "https://localhost:8080/"
        },
        "id": "696-n4xpE0Nx",
        "outputId": "40bbe5a9-bc06-40e0-e533-6dd654d88dee"
      },
      "execution_count": null,
      "outputs": [
        {
          "output_type": "stream",
          "name": "stdout",
          "text": [
            "Accuracy: 80.00%\n"
          ]
        },
        {
          "output_type": "stream",
          "name": "stderr",
          "text": [
            "<ipython-input-2-2804b259419b>:36: RuntimeWarning: divide by zero encountered in log\n",
            "  class_scores[cls] += np.log(self.feature_probs[cls][feature][value])\n"
          ]
        }
      ]
    },
    {
      "cell_type": "code",
      "source": [
        "import numpy as np\n",
        "import pandas as pd\n",
        "\n",
        "def load_data(Naive_Bayes_TrainingSet):\n",
        "    data = pd.read_csv(Naive_Bayes_TrainingSet)\n",
        "    X = data.iloc[:, :-1].values\n",
        "    y = data.iloc[:, -1].values\n",
        "    return X, y\n",
        "\n",
        "train_X, train_y = load_data('Naive_Bayes_TrainingSet.csv')\n",
        "test_X, test_y = load_data('test_data.csv')\n",
        "\n",
        "class CustomNaiveBayesClassifier:\n",
        "    def fit(self, X, y):\n",
        "        self.classes = np.unique(y)\n",
        "        self.class_probs = {}\n",
        "        self.feature_probs = {}\n",
        "\n",
        "            self.feature_probs[cls] = {}\n",
        "            for feature in range(X.shape[1]):\n",
        "                self.feature_probs[cls][feature] = {}\n",
        "                for value in np.unique(X[:, feature]):\n",
        "                    count = np.sum((X[:, feature] == value) & (y == cls))\n",
        "                    total = np.sum(y == cls)\n",
        "                    # Apply Laplace smoothing to avoid division by zero\n",
        "                    self.feature_probs[cls][feature][value] = (count + 1) / (total + len(np.unique(X[:, feature])))\n",
        "\n",
        "    def predict(self, X):\n",
        "        predictions = []\n",
        "        for sample in X:\n",
        "            class_scores = {cls: np.log(self.class_probs[cls]) for cls in self.classes}\n",
        "            for cls in self.classes:\n",
        "                for feature, value in enumerate(sample):\n",
        "                    if value in self.feature_probs[cls][feature]:\n",
        "                        class_scores[cls] += np.log(self.feature_probs[cls][feature][value])\n",
        "            predicted_class = max(class_scores, key=class_scores.get)\n",
        "            predictions.append(predicted_class)\n",
        "        return predictions\n",
        "\n",
        "nb_classifier = CustomNaiveBayesClassifier()\n",
        "nb_classifier.fit(train_X, train_y)\n",
        "\n",
        "predictions = nb_classifier.predict(test_X)\n",
        "accuracy = np.mean(predictions == test_y)\n",
        "print(f'Accuracy: {accuracy * 100:.2f}%')\n"
      ],
      "metadata": {
        "colab": {
          "base_uri": "https://localhost:8080/"
        },
        "id": "bOCJLHTNISEJ",
        "outputId": "0ea76a21-dd23-4111-e2e9-1bc13216cfc8"
      },
      "execution_count": null,
      "outputs": [
        {
          "output_type": "stream",
          "name": "stdout",
          "text": [
            "Accuracy: 80.00%\n"
          ]
        }
      ]
    }
  ]
}